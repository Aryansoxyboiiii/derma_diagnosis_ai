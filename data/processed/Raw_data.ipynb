{
 "cells": [
  {
   "cell_type": "code",
   "execution_count": null,
   "id": "fbffb544",
   "metadata": {},
   "outputs": [],
   "source": [
    "import numpy as np\n",
    "import pandas as pd\n",
    "\n",
    "File_path = \"C:\\\\Users\\\\aryan\\\\Desktop\\\\derma_diagnosis_ai\\\\derma_diagnosis_ai\\\\data\\\\raw\\\\dermatology\\\\dermatology.data\"\n",
    "colnames = [\n",
    "    \"erythema\",\"scaling\",\"definite_borders\",\"itching\",\"koebner_phenomenon\",\n",
    "    \"polygonal_papules\",\"follicular_papules\",\"oral_mucosal\",\n",
    "    \"knee_elbow\",\"scalp\",\"family_history\",\"exocytosis\",\"acanthosis\",\n",
    "    \"hyperkeratosis\",\"parakeratosis\",\"clubbing_rete_ridges\",\n",
    "    \"elongation_rete_ridges\",\"thinning_suprapapillary\",\"spongiform_pustule\",\n",
    "    \"munro_microabcess\",\"focal_hypergranulosis\",\"disappearance_granular_layer\",\n",
    "    \"vacuolisation_damage\",\"spongiosis\",\"saw_tooth_appearance\",\n",
    "    \"follicular_horn_plug\",\"perifollicular_parakeratosis\",\n",
    "    \"inflammatory_monoluclear_infiltrate\",\"band_like_infiltrate\",\n",
    "    \"ageing_lesion\",\"melanisation_incontinence\",\"eosinophils_infiltrate\",\n",
    "    \"PNL_infiltrate\",\n",
    "    \"age\",\n",
    "    \"target\"\n",
    "]\n",
    "\n",
    "\n",
    "pd.read_csv(File_path, names=colnames).to_csv(\"dermatology.csv\", index=False)\n"
   ]
  }
 ],
 "metadata": {
  "kernelspec": {
   "display_name": "🌈 MyEnv (NumPy Ready)",
   "language": "python",
   "name": "myenv"
  },
  "language_info": {
   "codemirror_mode": {
    "name": "ipython",
    "version": 3
   },
   "file_extension": ".py",
   "mimetype": "text/x-python",
   "name": "python",
   "nbconvert_exporter": "python",
   "pygments_lexer": "ipython3",
   "version": "3.13.5"
  }
 },
 "nbformat": 4,
 "nbformat_minor": 5
}
